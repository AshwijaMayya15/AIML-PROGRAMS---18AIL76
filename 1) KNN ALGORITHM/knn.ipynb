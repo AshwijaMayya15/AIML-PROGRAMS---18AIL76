{
 "cells": [
  {
   "cell_type": "code",
   "execution_count": 6,
   "metadata": {},
   "outputs": [],
   "source": [
    "from sklearn import metrics\n",
    "from sklearn.model_selection import train_test_split\n",
    "from sklearn.neighbors import KNeighborsClassifier\n",
    "from sklearn import datasets"
   ]
  },
  {
   "cell_type": "code",
   "execution_count": 7,
   "metadata": {},
   "outputs": [],
   "source": [
    "iris=datasets.load_iris()\n",
    "xtrain,xtest,ytrain,ytest=train_test_split(iris.data,iris.target,test_size=0.2,random_state=42)\n",
    "cls=KNeighborsClassifier()\n",
    "cls.fit(xtrain,ytrain)\n",
    "pre=cls.predict(xtest)"
   ]
  },
  {
   "cell_type": "code",
   "execution_count": 8,
   "metadata": {},
   "outputs": [
    {
     "name": "stdout",
     "output_type": "stream",
     "text": [
      "original label            predicted label           correct/wrong            \n",
      "t                         pre[i]                    correct                  \n",
      "t                         pre[i]                    correct                  \n",
      "t                         pre[i]                    correct                  \n",
      "t                         pre[i]                    correct                  \n",
      "t                         pre[i]                    correct                  \n",
      "t                         pre[i]                    correct                  \n",
      "t                         pre[i]                    correct                  \n",
      "t                         pre[i]                    correct                  \n",
      "t                         pre[i]                    correct                  \n",
      "t                         pre[i]                    correct                  \n",
      "t                         pre[i]                    correct                  \n",
      "t                         pre[i]                    correct                  \n",
      "t                         pre[i]                    correct                  \n",
      "t                         pre[i]                    correct                  \n",
      "t                         pre[i]                    correct                  \n",
      "t                         pre[i]                    correct                  \n",
      "t                         pre[i]                    correct                  \n",
      "t                         pre[i]                    correct                  \n",
      "t                         pre[i]                    correct                  \n",
      "t                         pre[i]                    correct                  \n",
      "t                         pre[i]                    correct                  \n",
      "t                         pre[i]                    correct                  \n",
      "t                         pre[i]                    correct                  \n",
      "t                         pre[i]                    correct                  \n",
      "t                         pre[i]                    correct                  \n",
      "t                         pre[i]                    correct                  \n",
      "t                         pre[i]                    correct                  \n",
      "t                         pre[i]                    correct                  \n",
      "t                         pre[i]                    correct                  \n",
      "t                         pre[i]                    correct                  \n"
     ]
    }
   ],
   "source": [
    "i=0\n",
    "print('%-25s %-25s %-25s' %('original label','predicted label','correct/wrong'))\n",
    "for t in ytest:\n",
    "    print('%-25s %-25s' %('t','pre[i]'),end=' ')\n",
    "    if (t==pre[i]):\n",
    "        print('%-25s' %(\"correct\"))\n",
    "    else:\n",
    "        print('%-25s' %(\"wrong\"))\n",
    "    i+=1"
   ]
  },
  {
   "cell_type": "code",
   "execution_count": 9,
   "metadata": {},
   "outputs": [
    {
     "name": "stdout",
     "output_type": "stream",
     "text": [
      "confusion matrix [[10  0  0]\n",
      " [ 0  9  0]\n",
      " [ 0  0 11]]\n",
      "confusion matrix               precision    recall  f1-score   support\n",
      "\n",
      "           0       1.00      1.00      1.00        10\n",
      "           1       1.00      1.00      1.00         9\n",
      "           2       1.00      1.00      1.00        11\n",
      "\n",
      "    accuracy                           1.00        30\n",
      "   macro avg       1.00      1.00      1.00        30\n",
      "weighted avg       1.00      1.00      1.00        30\n",
      "\n",
      "confusion matrix 1.0\n"
     ]
    }
   ],
   "source": [
    "print(\"confusion matrix\",metrics.confusion_matrix(ytest,pre))\n",
    "print(\"confusion matrix\",metrics.classification_report(ytest,pre))\n",
    "print(\"confusion matrix\",metrics.accuracy_score(ytest,pre))"
   ]
  }
 ],
 "metadata": {
  "kernelspec": {
   "display_name": "Python 3",
   "language": "python",
   "name": "python3"
  },
  "language_info": {
   "codemirror_mode": {
    "name": "ipython",
    "version": 3
   },
   "file_extension": ".py",
   "mimetype": "text/x-python",
   "name": "python",
   "nbconvert_exporter": "python",
   "pygments_lexer": "ipython3",
   "version": "3.11.3"
  }
 },
 "nbformat": 4,
 "nbformat_minor": 2
}
